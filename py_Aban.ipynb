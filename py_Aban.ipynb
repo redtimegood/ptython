{
  "nbformat": 4,
  "nbformat_minor": 0,
  "metadata": {
    "colab": {
      "provenance": [],
      "collapsed_sections": [
        "Ofo4A4NHhyrz",
        "1tY3Clw7rrDs",
        "3T0gAMYrkQl0",
        "ohB7XM3DxC_4",
        "9dNbFRJEHSVy",
        "_U86yDfPmPlg",
        "gLrvEs_8muFQ",
        "b5Gq-t1MwDMV",
        "164wzqq11AJD",
        "5nwYn2uZ33_i"
      ],
      "authorship_tag": "ABX9TyOX6V5nA4mL8si/Kxxi8Zx8",
      "include_colab_link": true
    },
    "kernelspec": {
      "name": "python3",
      "display_name": "Python 3"
    },
    "language_info": {
      "name": "python"
    }
  },
  "cells": [
    {
      "cell_type": "markdown",
      "metadata": {
        "id": "view-in-github",
        "colab_type": "text"
      },
      "source": [
        "<a href=\"https://colab.research.google.com/github/redtimegood/ptython/blob/main/py_Aban.ipynb\" target=\"_parent\"><img src=\"https://colab.research.google.com/assets/colab-badge.svg\" alt=\"Open In Colab\"/></a>"
      ]
    },
    {
      "cell_type": "code",
      "execution_count": null,
      "metadata": {
        "id": "f4_mKknQhmCE"
      },
      "outputs": [],
      "source": []
    },
    {
      "cell_type": "code",
      "source": [],
      "metadata": {
        "id": "Fk0GZ8_NiYAe"
      },
      "execution_count": null,
      "outputs": []
    },
    {
      "cell_type": "markdown",
      "source": [],
      "metadata": {
        "id": "i6CMQ9tSiYYN"
      }
    },
    {
      "cell_type": "markdown",
      "source": [
        "# CH1. 파이썬 문법\n",
        "## 자료형\n",
        "**숫자형**  \n",
        "* 정수 : 123, 456, 0, -45  \n",
        "* 실수 : 3.141592, -892.65, 0.5e5  \n",
        "* 8진수 : 0o524, 0o123\n",
        "* 16진수 : 0x0D, 0x0A, 0x0F  \n",
        "\n",
        "**변수**\n",
        "* 문자 또는 밑줄로 시작(_kim, alpha)  \n",
        "* 대소문자 구분(sum, Sum, SUM)  \n",
        "* 영문자, 숫자, 밑줄(A-z, 0-9, _) \n",
        "ex) sum_9, Alpha, s9n,  \n",
        "* 파이썬 키워드(print...)  \n",
        "\n",
        "**표기법**\n",
        "+ 카멜(낙타) : myName \n",
        "+ 스네이크(뱀) : my_name  \n",
        "+ 파스칼 : MyName"
      ],
      "metadata": {
        "id": "Ofo4A4NHhyrz"
      }
    },
    {
      "cell_type": "code",
      "source": [
        "a = 10\n",
        "b = 20\n",
        "f = \"10\"\n",
        "c = a+b\n",
        "print(a,b,c,f)"
      ],
      "metadata": {
        "colab": {
          "base_uri": "https://localhost:8080/"
        },
        "id": "WBF3Y1jrlYl0",
        "outputId": "c5c4dba8-979d-447e-c180-a1c197e1c9a4"
      },
      "execution_count": null,
      "outputs": [
        {
          "output_type": "stream",
          "name": "stdout",
          "text": [
            "10 20 30 10\n"
          ]
        }
      ]
    },
    {
      "cell_type": "code",
      "source": [
        "a = 10\n",
        "b = 20\n",
        "c = \"10\" # 주석\n",
        "d = \"20\"\n",
        "print(a+b)\n",
        "print(a,b)\n",
        "print(type(a))\n",
        "print(type(c))\n",
        "print(c+d)\n",
        "print(c,d)"
      ],
      "metadata": {
        "colab": {
          "base_uri": "https://localhost:8080/"
        },
        "id": "nX9Mx_6Zl99T",
        "outputId": "b9a1c9bd-db59-4ad3-dc4a-42613d00640b"
      },
      "execution_count": null,
      "outputs": [
        {
          "output_type": "stream",
          "name": "stdout",
          "text": [
            "30\n",
            "10 20\n",
            "<class 'int'>\n",
            "<class 'str'>\n",
            "1020\n",
            "10 20\n"
          ]
        }
      ]
    },
    {
      "cell_type": "code",
      "source": [
        "# 곱셈 나눗셈\n",
        "a = 10\n",
        "b = 3\n",
        "c = a / b\n",
        "d = a // b # 몫\n",
        "e = a % b # 나머지\n",
        "print(c,d,e)"
      ],
      "metadata": {
        "colab": {
          "base_uri": "https://localhost:8080/"
        },
        "id": "9ptmslhQqjLL",
        "outputId": "80ed0b2c-a3fc-4141-b337-2906545407d0"
      },
      "execution_count": null,
      "outputs": [
        {
          "output_type": "stream",
          "name": "stdout",
          "text": [
            "3.3333333333333335 3 1\n"
          ]
        }
      ]
    },
    {
      "cell_type": "code",
      "source": [
        "# 곱셈\n",
        "a = 10\n",
        "b = 3\n",
        "c = a * b # 곱하기\n",
        "d = a**b # 제곱\n",
        "print(c, d)"
      ],
      "metadata": {
        "colab": {
          "base_uri": "https://localhost:8080/"
        },
        "id": "FK5RRQ3DrJ4q",
        "outputId": "82fed13a-59f5-4063-a95a-d30a06de29a0"
      },
      "execution_count": null,
      "outputs": [
        {
          "output_type": "stream",
          "name": "stdout",
          "text": [
            "30 1000\n"
          ]
        }
      ]
    },
    {
      "cell_type": "markdown",
      "source": [
        "#### 문자열\n",
        "1. 큰따옴표 : \"Lang Kim\"\n",
        "2. 작은 따옴표 : 'Lang Kim'\n",
        "3. 큰따옴표 3개 : \"\"\"대한민국\"\"\"\n",
        "4. 작은 따옴표 3개: '''대한민국'''\n",
        "5. \"동해무과 백두산이 마르고 닳도록 kim\\'s\"\n"
      ],
      "metadata": {
        "id": "1tY3Clw7rrDs"
      }
    },
    {
      "cell_type": "code",
      "source": [
        "# 변수\n",
        "myName = \"Kim Lang Ki\"\n",
        "my_name = \"이의섭\"\n",
        "_my_name = \"korea\"\n",
        "MYNAME = \"코리아\"\n",
        "my2name = \"kikiki\"\n",
        "# 2myname = \"숫자먼저\"\n",
        "# my-name = \"마이너스\"\n",
        "# my name = \"스페이스\"\n",
        "myName1 = 1234\n",
        "myName2 = \"1234\"\n",
        "print(type(myName1))\n",
        "print(type(myName2))"
      ],
      "metadata": {
        "colab": {
          "base_uri": "https://localhost:8080/"
        },
        "id": "cVBDZP8NshbS",
        "outputId": "718a7086-3ef2-4beb-9b2d-77ba1ea20512"
      },
      "execution_count": null,
      "outputs": [
        {
          "output_type": "stream",
          "name": "stdout",
          "text": [
            "<class 'int'>\n",
            "<class 'str'>\n"
          ]
        }
      ]
    },
    {
      "cell_type": "code",
      "source": [
        "a=b=c= \"브라보콘\"\n",
        "print(a)\n",
        "print(b)\n",
        "print(c)"
      ],
      "metadata": {
        "colab": {
          "base_uri": "https://localhost:8080/"
        },
        "id": "DMWzOBXNvBIr",
        "outputId": "68ceb7eb-7d40-40e8-ae0c-68e87fe93fb2"
      },
      "execution_count": null,
      "outputs": [
        {
          "output_type": "stream",
          "name": "stdout",
          "text": [
            "브라보콘\n",
            "브라보콘\n",
            "브라보콘\n"
          ]
        }
      ]
    },
    {
      "cell_type": "code",
      "source": [
        "x,y,z = \"딸기\", \"포도\", \"바나나\"\n",
        "print(x)\n",
        "print(y)\n",
        "print(z)"
      ],
      "metadata": {
        "colab": {
          "base_uri": "https://localhost:8080/"
        },
        "id": "kIZFRoYQvPSp",
        "outputId": "73c59800-7623-4e3f-a5c4-1bf30c559229"
      },
      "execution_count": null,
      "outputs": [
        {
          "output_type": "stream",
          "name": "stdout",
          "text": [
            "딸기\n",
            "포도\n",
            "바나나\n"
          ]
        }
      ]
    },
    {
      "cell_type": "code",
      "source": [
        "fruits = [\"누가바\", \"쌍쌍바\", \"보석바\"]\n",
        "x,y,z = fruits\n",
        "print(x)\n",
        "print(y)\n",
        "print(z)"
      ],
      "metadata": {
        "colab": {
          "base_uri": "https://localhost:8080/"
        },
        "id": "6uarYftqv9bc",
        "outputId": "5686ecaa-40bd-4301-9038-bb9fe04151fd"
      },
      "execution_count": null,
      "outputs": [
        {
          "output_type": "stream",
          "name": "stdout",
          "text": [
            "누가바\n",
            "쌍쌍바\n",
            "보석바\n"
          ]
        }
      ]
    },
    {
      "cell_type": "code",
      "source": [
        "x = \"Life\"\n",
        "y = \"is\"\n",
        "z = \"beautiful!\"\n",
        "print(x,y,z)\n",
        "print(x+y+z)\n"
      ],
      "metadata": {
        "colab": {
          "base_uri": "https://localhost:8080/"
        },
        "id": "HghPy2mEwfzK",
        "outputId": "9046e813-cfd6-47e4-e193-92c0bf61f552"
      },
      "execution_count": null,
      "outputs": [
        {
          "output_type": "stream",
          "name": "stdout",
          "text": [
            "Life is beautiful!\n",
            "Lifeisbeautiful!\n"
          ]
        }
      ]
    },
    {
      "cell_type": "code",
      "source": [
        "a = '1'\n",
        "b = '2'\n",
        "c = '3'\n",
        "print(a+b+c)\n",
        "print(a,b,c)"
      ],
      "metadata": {
        "colab": {
          "base_uri": "https://localhost:8080/"
        },
        "id": "I0UHqQKoxNPb",
        "outputId": "a5b2d37b-542a-4caf-a490-e0983f7f956c"
      },
      "execution_count": null,
      "outputs": [
        {
          "output_type": "stream",
          "name": "stdout",
          "text": [
            "123\n",
            "1 2 3\n"
          ]
        }
      ]
    },
    {
      "cell_type": "markdown",
      "source": [
        "데이터 바꾸기\n"
      ],
      "metadata": {
        "id": "2ooEkOtt8Feo"
      }
    },
    {
      "cell_type": "code",
      "source": [
        "a = 1;b = 2\n",
        "a,b = b,a\n",
        "print (a,b)"
      ],
      "metadata": {
        "colab": {
          "base_uri": "https://localhost:8080/"
        },
        "id": "abJ2BbG_8Dqa",
        "outputId": "5072aa63-ef17-4824-fdbc-cee5d19afff9"
      },
      "execution_count": null,
      "outputs": [
        {
          "output_type": "stream",
          "name": "stdout",
          "text": [
            "2 1\n"
          ]
        }
      ]
    },
    {
      "cell_type": "code",
      "source": [
        "b = 2; c = 3\n",
        " a = (b=b+c) # error\n",
        "print(a)"
      ],
      "metadata": {
        "colab": {
          "base_uri": "https://localhost:8080/",
          "height": 137
        },
        "id": "5qFk6SlY8m_x",
        "outputId": "635aac92-169e-46e6-bb4c-42ef9d9609f8"
      },
      "execution_count": null,
      "outputs": [
        {
          "output_type": "error",
          "ename": "IndentationError",
          "evalue": "ignored",
          "traceback": [
            "\u001b[0;36m  File \u001b[0;32m\"<ipython-input-22-e943baa35575>\"\u001b[0;36m, line \u001b[0;32m2\u001b[0m\n\u001b[0;31m    a = (b=b+c) # error\u001b[0m\n\u001b[0m    ^\u001b[0m\n\u001b[0;31mIndentationError\u001b[0m\u001b[0;31m:\u001b[0m unexpected indent\n"
          ]
        }
      ]
    },
    {
      "cell_type": "code",
      "source": [
        "a=1;b=2;c=3\n"
      ],
      "metadata": {
        "id": "_aSMtweP80lQ"
      },
      "execution_count": null,
      "outputs": []
    },
    {
      "cell_type": "code",
      "source": [
        "# len()\n",
        "\n",
        "a = \"123456\"\n",
        "b = [2,3.4,5]\n",
        "print(len(a))\n",
        "print(len(b))"
      ],
      "metadata": {
        "colab": {
          "base_uri": "https://localhost:8080/"
        },
        "id": "0q0IjVTs9VtJ",
        "outputId": "db7a6064-41d4-455d-a46a-5d113faf37ca"
      },
      "execution_count": null,
      "outputs": [
        {
          "output_type": "stream",
          "name": "stdout",
          "text": [
            "6\n",
            "3\n"
          ]
        }
      ]
    },
    {
      "cell_type": "markdown",
      "source": [
        "계산기"
      ],
      "metadata": {
        "id": "NNHYz3Gt9oZp"
      }
    },
    {
      "cell_type": "code",
      "source": [
        "a = 100\n",
        "b = 200\n",
        "result = a + b\n",
        "print(a, '+',b, '=',result)\n",
        "result = a - b\n",
        "print(a, '-',b,'=',result)\n",
        "result = a / b\n",
        "print(a, '/',b,'=',result)\n",
        "result = a * b\n",
        "print(a, '*',b,'=',result)"
      ],
      "metadata": {
        "colab": {
          "base_uri": "https://localhost:8080/"
        },
        "id": "Oso_wpwy9qU5",
        "outputId": "6c591e0f-61d3-4936-81aa-72f65f100a6d"
      },
      "execution_count": null,
      "outputs": [
        {
          "output_type": "stream",
          "name": "stdout",
          "text": [
            "100 + 200 = 300\n",
            "100 - 200 = -100\n",
            "100 / 200 = 0.5\n",
            "100 * 200 = 20000\n"
          ]
        }
      ]
    },
    {
      "cell_type": "code",
      "source": [
        "a = \"1234\"\n",
        "b = 5678\n",
        "c = int(a) + b\n",
        "print(c)"
      ],
      "metadata": {
        "colab": {
          "base_uri": "https://localhost:8080/"
        },
        "id": "nMoq4Q4GBKjh",
        "outputId": "46b4dbb3-453d-4254-f5bc-c8192f2334af"
      },
      "execution_count": null,
      "outputs": [
        {
          "output_type": "stream",
          "name": "stdout",
          "text": [
            "6912\n"
          ]
        }
      ]
    },
    {
      "cell_type": "code",
      "source": [
        "# 계산기 2\n",
        "num1 = int(input(\"숫자입력1:\"))\n",
        "num2 = int(input(\"숫자입력2:\"))\n",
        "\n",
        "print(type(num1))\n",
        "result = num1 + num2\n",
        "print(result)"
      ],
      "metadata": {
        "colab": {
          "base_uri": "https://localhost:8080/"
        },
        "id": "NLmwAzhcBW_7",
        "outputId": "2e0ed34f-1680-415e-be41-065c63a7ca21"
      },
      "execution_count": null,
      "outputs": [
        {
          "output_type": "stream",
          "name": "stdout",
          "text": [
            "숫자입력1:1\n",
            "숫자입력2:2\n",
            "<class 'int'>\n",
            "3\n"
          ]
        }
      ]
    },
    {
      "cell_type": "code",
      "source": [
        "num1 = int(input(\"숫자입력1:\"))\n",
        "num2 = int(input(\"숫자입력2:\"))\n",
        "\n",
        "print(type(num1))\n",
        "result = num1 + num2\n",
        "print(num1, '+',num2, '=',result)\n",
        "result = num1 - num2\n",
        "print(num1, '-',num2, '=',result)\n",
        "result = num1 / num2\n",
        "print(num1, '/',num2, '=',result)\n",
        "result = num1 * num2\n",
        "print(num1, '*',num2, '=',result)\n"
      ],
      "metadata": {
        "colab": {
          "base_uri": "https://localhost:8080/"
        },
        "id": "9gsyf4baCKWh",
        "outputId": "ac779056-0175-4180-cf1d-4de587654f2b"
      },
      "execution_count": null,
      "outputs": [
        {
          "output_type": "stream",
          "name": "stdout",
          "text": [
            "숫자입력1:9\n",
            "숫자입력2:2\n",
            "<class 'int'>\n",
            "9 + 2 = 11\n",
            "9 - 2 = 7\n",
            "9 / 2 = 4.5\n",
            "9 * 2 = 18\n"
          ]
        }
      ]
    },
    {
      "cell_type": "code",
      "source": [
        "#자기이름, 전화번호, 택배(g)x100, (입력을 받음)\n",
        "#결과값= g x 100원 =00원 입니다.\n",
        "n1 = int(input(\"자기이름:\"))\n",
        "n2 = int(input(\"전화번호:\"))\n",
        "num3 = int(input(\"택배값\"))\n",
        "num4 = 100\n",
        "print(type(n1))\n",
        "print(type(n2))\n",
        "print(type(n3))\n",
        "result = num3 * num4\n",
        "print(num3, '*', num4, '=', result)\n",
        "\n",
        "\n",
        "\n",
        "\n",
        "\n"
      ],
      "metadata": {
        "colab": {
          "base_uri": "https://localhost:8080/",
          "height": 339
        },
        "id": "4XWR7Jk2Du9g",
        "outputId": "dd5a0772-e5ac-4385-ddff-1eecd29ce40b"
      },
      "execution_count": null,
      "outputs": [
        {
          "output_type": "stream",
          "name": "stdout",
          "text": [
            "자기이름:123\n",
            "전화번호:123\n",
            "택배값500\n",
            "<class 'int'>\n",
            "<class 'int'>\n"
          ]
        },
        {
          "output_type": "error",
          "ename": "NameError",
          "evalue": "ignored",
          "traceback": [
            "\u001b[0;31m---------------------------------------------------------------------------\u001b[0m",
            "\u001b[0;31mNameError\u001b[0m                                 Traceback (most recent call last)",
            "\u001b[0;32m<ipython-input-41-9f660b084322>\u001b[0m in \u001b[0;36m<module>\u001b[0;34m\u001b[0m\n\u001b[1;32m      7\u001b[0m \u001b[0mprint\u001b[0m\u001b[0;34m(\u001b[0m\u001b[0mtype\u001b[0m\u001b[0;34m(\u001b[0m\u001b[0mn1\u001b[0m\u001b[0;34m)\u001b[0m\u001b[0;34m)\u001b[0m\u001b[0;34m\u001b[0m\u001b[0;34m\u001b[0m\u001b[0m\n\u001b[1;32m      8\u001b[0m \u001b[0mprint\u001b[0m\u001b[0;34m(\u001b[0m\u001b[0mtype\u001b[0m\u001b[0;34m(\u001b[0m\u001b[0mn2\u001b[0m\u001b[0;34m)\u001b[0m\u001b[0;34m)\u001b[0m\u001b[0;34m\u001b[0m\u001b[0;34m\u001b[0m\u001b[0m\n\u001b[0;32m----> 9\u001b[0;31m \u001b[0mprint\u001b[0m\u001b[0;34m(\u001b[0m\u001b[0mtype\u001b[0m\u001b[0;34m(\u001b[0m\u001b[0mn3\u001b[0m\u001b[0;34m)\u001b[0m\u001b[0;34m)\u001b[0m\u001b[0;34m\u001b[0m\u001b[0;34m\u001b[0m\u001b[0m\n\u001b[0m\u001b[1;32m     10\u001b[0m \u001b[0mresult\u001b[0m \u001b[0;34m=\u001b[0m \u001b[0mnum3\u001b[0m \u001b[0;34m*\u001b[0m \u001b[0mnum4\u001b[0m\u001b[0;34m\u001b[0m\u001b[0;34m\u001b[0m\u001b[0m\n\u001b[1;32m     11\u001b[0m \u001b[0mprint\u001b[0m\u001b[0;34m(\u001b[0m\u001b[0mnum3\u001b[0m\u001b[0;34m,\u001b[0m \u001b[0;34m'*'\u001b[0m\u001b[0;34m,\u001b[0m \u001b[0mnum4\u001b[0m\u001b[0;34m,\u001b[0m \u001b[0;34m'='\u001b[0m\u001b[0;34m,\u001b[0m \u001b[0mresult\u001b[0m\u001b[0;34m)\u001b[0m\u001b[0;34m\u001b[0m\u001b[0;34m\u001b[0m\u001b[0m\n",
            "\u001b[0;31mNameError\u001b[0m: name 'n3' is not defined"
          ]
        }
      ]
    },
    {
      "cell_type": "markdown",
      "source": [
        "# CH2. 서식 출력 pront()\n"
      ],
      "metadata": {
        "id": "hVBItkIAiZ_0"
      }
    },
    {
      "cell_type": "code",
      "source": [
        "print(\"%d\"% 123)\n",
        "print(\"%5d\" % 123)\n",
        "print(\"%05d\" % 123)\n",
        "\n",
        "print(\"%f\" % 123.45)\n",
        "print(\"%7.1f\" % 123.45)\n",
        "print(\"%7.3f\" % 123.45)\n",
        "\n",
        "print(\"%c\" % \"1\")\n",
        "print(\"%s\" % \"가나다라\")\n",
        "print(\"%6s\" % \"가나다라\")\n",
        "print(\"%6s\" % \"abcd\")"
      ],
      "metadata": {
        "colab": {
          "base_uri": "https://localhost:8080/"
        },
        "id": "Wj9emKLwikts",
        "outputId": "28407138-2379-477d-f73c-200eb9f36caf"
      },
      "execution_count": null,
      "outputs": [
        {
          "output_type": "stream",
          "name": "stdout",
          "text": [
            "123\n",
            "  123\n",
            "00123\n",
            "123.450000\n",
            "  123.5\n",
            "123.450\n",
            "1\n",
            "가나다라\n",
            "  가나다라\n",
            "  abcd\n"
          ]
        }
      ]
    },
    {
      "cell_type": "markdown",
      "source": [
        "#### 순서 지정 기능: format\n",
        "\n"
      ],
      "metadata": {
        "id": "3T0gAMYrkQl0"
      }
    },
    {
      "cell_type": "code",
      "source": [
        "print(\"{0:d} {1:d} {2:d}\" .format(123,456,789))"
      ],
      "metadata": {
        "colab": {
          "base_uri": "https://localhost:8080/"
        },
        "id": "W2GPHaDtkY7D",
        "outputId": "4b3060c4-7e4c-41ab-b982-598af0759c59"
      },
      "execution_count": null,
      "outputs": [
        {
          "output_type": "stream",
          "name": "stdout",
          "text": [
            "123 456 789\n"
          ]
        }
      ]
    },
    {
      "cell_type": "code",
      "source": [
        "print(\"{2:d} {1:5d} {0:05d}\" .format(123,456,789))"
      ],
      "metadata": {
        "colab": {
          "base_uri": "https://localhost:8080/"
        },
        "id": "spg_iaN8k4Ej",
        "outputId": "1602841a-ced5-4610-a017-17cc1254da77"
      },
      "execution_count": null,
      "outputs": [
        {
          "output_type": "stream",
          "name": "stdout",
          "text": [
            "789   456 00123\n"
          ]
        }
      ]
    },
    {
      "cell_type": "code",
      "source": [
        "print(\"\\n줄 바꿈 명령 \\n연습 입니다.\")"
      ],
      "metadata": {
        "colab": {
          "base_uri": "https://localhost:8080/"
        },
        "id": "EjjIisgSlPO0",
        "outputId": "da9f8576-7985-4748-9f3d-bcceecaaa9f2"
      },
      "execution_count": null,
      "outputs": [
        {
          "output_type": "stream",
          "name": "stdout",
          "text": [
            "\n",
            "줄 바꿈 명령 \n",
            "연습 입니다.\n"
          ]
        }
      ]
    },
    {
      "cell_type": "code",
      "source": [
        "print(\"\\n탭키 명령 \\t연습입니다.\")"
      ],
      "metadata": {
        "colab": {
          "base_uri": "https://localhost:8080/"
        },
        "id": "TeLAjp3-lWwr",
        "outputId": "7f9b6182-7255-469b-f470-3e1fa99a4245"
      },
      "execution_count": null,
      "outputs": [
        {
          "output_type": "stream",
          "name": "stdout",
          "text": [
            "\n",
            "탭키 명령 \t연습입니다.\n"
          ]
        }
      ]
    },
    {
      "cell_type": "code",
      "source": [
        "print(\"따옴표 글자가 \\\"강조\\\"되는 효과\")\n",
        "print(\"따옴표 글자가 \\'강조\\'되는 효과\")\n",
        "print(\"역슬레시 3개를 출력하려면 \\\\\\\\\\\\ 6개\")\n",
        "print(r\"\\n \\t \\\" \\\\ \\' @를 그대로 출력\")"
      ],
      "metadata": {
        "colab": {
          "base_uri": "https://localhost:8080/"
        },
        "id": "XrdAeUtrljLT",
        "outputId": "fdc3958d-b4af-4359-e5f5-50574657a80d"
      },
      "execution_count": null,
      "outputs": [
        {
          "output_type": "stream",
          "name": "stdout",
          "text": [
            "따옴표 글자가 \"강조\"되는 효과\n",
            "따옴표 글자가 '강조'되는 효과\n",
            "역슬레시 3개를 출력하려면 \\\\\\ 6개\n",
            "\\n \\t \\\" \\\\ \\' @를 그대로 출력\n"
          ]
        }
      ]
    },
    {
      "cell_type": "markdown",
      "source": [
        "#### 관계 연산자\n"
      ],
      "metadata": {
        "id": "6rbeVgUouhCw"
      }
    },
    {
      "cell_type": "code",
      "source": [
        "a,b=10,20\n",
        "print(a==b,a!=b,a>=b,a<=b,a>b,a<b)"
      ],
      "metadata": {
        "colab": {
          "base_uri": "https://localhost:8080/"
        },
        "id": "cCvuSzRqugjQ",
        "outputId": "52e75cc1-b376-48f9-f307-b17cf090f4ef"
      },
      "execution_count": null,
      "outputs": [
        {
          "output_type": "stream",
          "name": "stdout",
          "text": [
            "False True False True False True\n"
          ]
        }
      ]
    },
    {
      "cell_type": "markdown",
      "source": [
        "#### 논리 연산자"
      ],
      "metadata": {
        "id": "Um-QJwYFvBho"
      }
    },
    {
      "cell_type": "code",
      "source": [
        "a = 95\n",
        "print((a>100) and (a<200)) #100<a<200\n",
        "print((a<100) or (a>200)) #a<100, a>200\n",
        "print(not(a==100)) # a<1=00, a>=101\n"
      ],
      "metadata": {
        "colab": {
          "base_uri": "https://localhost:8080/"
        },
        "id": "knWnXqecvD_p",
        "outputId": "362efbaa-7acd-40a7-b523-d192a7eff14e"
      },
      "execution_count": null,
      "outputs": [
        {
          "output_type": "stream",
          "name": "stdout",
          "text": [
            "False\n",
            "True\n",
            "True\n"
          ]
        }
      ]
    },
    {
      "cell_type": "code",
      "source": [
        "if(1):\n",
        "  print(\"참이면 실행되어 보임\")\n",
        "if(0):\n",
        "  print(\"거짓이면 안보임\")"
      ],
      "metadata": {
        "colab": {
          "base_uri": "https://localhost:8080/"
        },
        "id": "1_ocDPzXwgdw",
        "outputId": "97e0403d-adc3-41fc-a085-50c05487204c"
      },
      "execution_count": null,
      "outputs": [
        {
          "output_type": "stream",
          "name": "stdout",
          "text": [
            "참이면 실행되어 보임\n"
          ]
        }
      ]
    },
    {
      "cell_type": "markdown",
      "source": [
        "#### 퀴즈2 // 몫 % 나머지 int(input(\"입력:\")) 지폐 금액입력 후 동전으로 교환시 (500원, 100원, 50원, 10원)\n",
        "money, c500, c100, c50, c10  \n",
        "받은돈 : ?원  \n",
        "500원 : ?개  \n",
        "100원 : ?개  \n",
        "50원 : ?개  \n",
        "10원 : ?개  \n",
        "나머지 : ?원"
      ],
      "metadata": {
        "id": "ohB7XM3DxC_4"
      }
    },
    {
      "cell_type": "code",
      "source": [
        "temp, money, c500, c100, c50, c10=0,0,0,0,0,0\n",
        "money=int(input(\"동전으로 교환할 돈은?:\"))\n",
        "temp = money\n",
        "\n",
        "c500 = money //500 # 몫\n",
        "money %= 500 #money = money % 500\n",
        "c100 = money // 100\n",
        "money %= 100\n",
        "c50 = money //10\n",
        "money %= 50\n",
        "c10 = money\n",
        "money %= 10\n",
        "print(\"입력받은 돈은 %d원\" % temp)\n",
        "print(\"500원 동전 : %d\" % c500)\n",
        "print(\"100원 동전 : %d\" % c100)\n",
        "print(\"50원 동전 : %d\" % c50)\n",
        "print(\"10원 동전 : %d\" % c10)\n",
        "print(\"나머지잔돈 : %d\" % money)"
      ],
      "metadata": {
        "colab": {
          "base_uri": "https://localhost:8080/"
        },
        "id": "EQoGRHV9yXWg",
        "outputId": "bb8953f2-0183-43e6-e4bb-0e2fba3531f3"
      },
      "execution_count": null,
      "outputs": [
        {
          "output_type": "stream",
          "name": "stdout",
          "text": [
            "동전으로 교환할 돈은?:123456\n",
            "입력받은 돈은 123456원\n",
            "500원 동전 : 246\n",
            "100원 동전 : 4\n",
            "50원 동전 : 5\n",
            "10원 동전 : 6\n",
            "나머지잔돈 : 6\n"
          ]
        }
      ]
    },
    {
      "cell_type": "markdown",
      "source": [
        "#### 조건문\n"
      ],
      "metadata": {
        "id": "ljcn_Dbu6rN1"
      }
    },
    {
      "cell_type": "code",
      "source": [
        "a = 10\n",
        "if(a < 100):\n",
        "  print(\"100보다 작으며 참\")\n",
        "  print(\"거짓이면 이문장은 보이지 않음\")\n",
        "print(\"프로그램 끝\")"
      ],
      "metadata": {
        "colab": {
          "base_uri": "https://localhost:8080/"
        },
        "id": "6kX6S2Aq6tmV",
        "outputId": "23b0bf47-74b4-4d6f-a76d-509a117c696f"
      },
      "execution_count": null,
      "outputs": [
        {
          "output_type": "stream",
          "name": "stdout",
          "text": [
            "100보다 작으며 참\n",
            "거짓이면 이문장은 보이지 않음\n",
            "프로그램 끝\n"
          ]
        }
      ]
    },
    {
      "cell_type": "code",
      "source": [
        "a = 10\n",
        "if(a<100):\n",
        "  print(\"참:100보다 작음\")\n",
        "else :\n",
        "  print(\"거짓:조건보다 크면\")\n",
        "print(\"프로그램 끝\") "
      ],
      "metadata": {
        "colab": {
          "base_uri": "https://localhost:8080/"
        },
        "id": "yqTlAWTx7bBt",
        "outputId": "7f59b66b-41ab-4000-8773-78410ea6692e"
      },
      "execution_count": null,
      "outputs": [
        {
          "output_type": "stream",
          "name": "stdout",
          "text": [
            "참:100보다 작음\n",
            "프로그램 끝\n"
          ]
        }
      ]
    },
    {
      "cell_type": "code",
      "source": [
        "# 홀짝 구분\n",
        "a = int(input(\"숫자 입력:\"))\n",
        "b = a % 2\n",
        "if(b==0): #if(a%2==0\n",
        "  print(\"짝수 입니다.\")\n",
        "else :\n",
        "  print(\"홀수 입니다.\")"
      ],
      "metadata": {
        "colab": {
          "base_uri": "https://localhost:8080/"
        },
        "id": "XWElqxPE73jN",
        "outputId": "29dd4eab-64a6-47b1-a61d-a7e673162fc2"
      },
      "execution_count": null,
      "outputs": [
        {
          "output_type": "stream",
          "name": "stdout",
          "text": [
            "숫자 입력:123124\n",
            "짝수 입니다.\n"
          ]
        }
      ]
    },
    {
      "cell_type": "code",
      "source": [
        "a = int(input(\"숫자입력:\"))\n",
        "if(a>50):\n",
        "  if(a < 100):\n",
        "    print(\"50<a<100\")\n",
        "  else:\n",
        "    print(\"a>100\")\n",
        "else:\n",
        "  if(a > 25):\n",
        "    print(\"25<a<50\")\n",
        "  else:\n",
        "    print:(\"a<25\")\n",
        "\n",
        "    "
      ],
      "metadata": {
        "colab": {
          "base_uri": "https://localhost:8080/"
        },
        "id": "kSLVfEXc82qd",
        "outputId": "ea84964d-5255-4e81-a448-de7d1bb47c4d"
      },
      "execution_count": null,
      "outputs": [
        {
          "output_type": "stream",
          "name": "stdout",
          "text": [
            "숫자입력:234\n",
            "a>100\n"
          ]
        }
      ]
    },
    {
      "cell_type": "code",
      "source": [
        "fruit = ['사과','배','샤인머스켓', '바나나']\n",
        "fruit.append('망고')\n",
        "if '망고' in fruit :\n",
        "  print(\"망고가 있습니다.\")\n",
        "print(fruit)"
      ],
      "metadata": {
        "colab": {
          "base_uri": "https://localhost:8080/"
        },
        "id": "1Uex3auo_qnE",
        "outputId": "3d8b9cdf-3ff5-41a4-e690-e6aac2a26855"
      },
      "execution_count": null,
      "outputs": [
        {
          "output_type": "stream",
          "name": "stdout",
          "text": [
            "망고가 있습니다.\n",
            "['사과', '배', '샤인머스켓', '바나나', '망고']\n"
          ]
        }
      ]
    },
    {
      "cell_type": "code",
      "source": [
        "for i in range(0,3,1): #시작,끝값+1,증가값\n",
        "  print(\"%d 안녕하세요.\" % i)\n",
        "print(\"환영합니다.^^*\")"
      ],
      "metadata": {
        "colab": {
          "base_uri": "https://localhost:8080/"
        },
        "id": "hp1YLXFaAn7E",
        "outputId": "e647ac13-f58f-49d3-a89e-be11f5a87d35"
      },
      "execution_count": null,
      "outputs": [
        {
          "output_type": "stream",
          "name": "stdout",
          "text": [
            "0 안녕하세요.\n",
            "1 안녕하세요.\n",
            "2 안녕하세요.\n",
            "환영합니다.^^*\n"
          ]
        }
      ]
    },
    {
      "cell_type": "code",
      "source": [
        "import random\n",
        "num = []\n",
        "for i in range(0,6):\n",
        "  num.append(random.randrange(1,45))\n",
        "print(\"생성 리스트\", num)"
      ],
      "metadata": {
        "colab": {
          "base_uri": "https://localhost:8080/"
        },
        "id": "wQYwwASlCLSz",
        "outputId": "88adeb5f-0a27-4db3-8fda-0f2bd62446c8"
      },
      "execution_count": null,
      "outputs": [
        {
          "output_type": "stream",
          "name": "stdout",
          "text": [
            "생성 리스트 [1, 41, 38, 18, 22, 32]\n"
          ]
        }
      ]
    },
    {
      "cell_type": "code",
      "source": [
        "for i in range(1,9,1):\n",
        "  print(\"%d\" % i, end='')\n",
        "print(\"\\n\")\n",
        "for j in range(1,9,1):\n",
        "  print(\"%d\" % j, end='\\t')"
      ],
      "metadata": {
        "colab": {
          "base_uri": "https://localhost:8080/"
        },
        "id": "JKh0zCiaDeab",
        "outputId": "0d2a93b4-e70b-43dc-ee44-49553009176e"
      },
      "execution_count": null,
      "outputs": [
        {
          "output_type": "stream",
          "name": "stdout",
          "text": [
            "12345678\n",
            "\n",
            "1\t2\t3\t4\t5\t6\t7\t8\t"
          ]
        }
      ]
    },
    {
      "cell_type": "code",
      "source": [
        "sum = 0\n",
        "for i in range(1,11,1):\n",
        "  sum = sum + i\n",
        "print(\"1부터 10까지의 합: %d\" % sum)"
      ],
      "metadata": {
        "colab": {
          "base_uri": "https://localhost:8080/"
        },
        "id": "nefhErz2EXcb",
        "outputId": "a1490bfd-c6af-431b-ff92-fc92a206bf85"
      },
      "execution_count": null,
      "outputs": [
        {
          "output_type": "stream",
          "name": "stdout",
          "text": [
            "1부터 10까지의 합: 55\n"
          ]
        }
      ]
    },
    {
      "cell_type": "code",
      "source": [
        "sum,num=0,0\n",
        "num = int(input(\"숫자입력\"))\n",
        "for i in range(1,num+1,1):\n",
        "  sum = sum + i\n",
        "print(\"1~n까지의 합:%d\" % sum)\n"
      ],
      "metadata": {
        "colab": {
          "base_uri": "https://localhost:8080/"
        },
        "id": "UHNoLGkdE8sy",
        "outputId": "05e78201-3d61-4993-90db-17f14563bf55"
      },
      "execution_count": null,
      "outputs": [
        {
          "output_type": "stream",
          "name": "stdout",
          "text": [
            "숫자입력100\n",
            "1~n까지의 합:5050\n"
          ]
        }
      ]
    },
    {
      "cell_type": "code",
      "source": [
        "i,j,k=0,0,0\n",
        "for i in range(2,10,1):\n",
        "  for j in range(1,10,1):\n",
        "    print(\"%d x %d = %2d\" % (i,j,i*j))\n",
        "  print(\"\")"
      ],
      "metadata": {
        "colab": {
          "base_uri": "https://localhost:8080/"
        },
        "id": "qEAKh3S8F6Ay",
        "outputId": "41911de9-162f-452c-af9d-99ad5de46c89"
      },
      "execution_count": null,
      "outputs": [
        {
          "output_type": "stream",
          "name": "stdout",
          "text": [
            "2 x 1 =  2\n",
            "2 x 2 =  4\n",
            "2 x 3 =  6\n",
            "2 x 4 =  8\n",
            "2 x 5 = 10\n",
            "2 x 6 = 12\n",
            "2 x 7 = 14\n",
            "2 x 8 = 16\n",
            "2 x 9 = 18\n",
            "\n",
            "3 x 1 =  3\n",
            "3 x 2 =  6\n",
            "3 x 3 =  9\n",
            "3 x 4 = 12\n",
            "3 x 5 = 15\n",
            "3 x 6 = 18\n",
            "3 x 7 = 21\n",
            "3 x 8 = 24\n",
            "3 x 9 = 27\n",
            "\n",
            "4 x 1 =  4\n",
            "4 x 2 =  8\n",
            "4 x 3 = 12\n",
            "4 x 4 = 16\n",
            "4 x 5 = 20\n",
            "4 x 6 = 24\n",
            "4 x 7 = 28\n",
            "4 x 8 = 32\n",
            "4 x 9 = 36\n",
            "\n",
            "5 x 1 =  5\n",
            "5 x 2 = 10\n",
            "5 x 3 = 15\n",
            "5 x 4 = 20\n",
            "5 x 5 = 25\n",
            "5 x 6 = 30\n",
            "5 x 7 = 35\n",
            "5 x 8 = 40\n",
            "5 x 9 = 45\n",
            "\n",
            "6 x 1 =  6\n",
            "6 x 2 = 12\n",
            "6 x 3 = 18\n",
            "6 x 4 = 24\n",
            "6 x 5 = 30\n",
            "6 x 6 = 36\n",
            "6 x 7 = 42\n",
            "6 x 8 = 48\n",
            "6 x 9 = 54\n",
            "\n",
            "7 x 1 =  7\n",
            "7 x 2 = 14\n",
            "7 x 3 = 21\n",
            "7 x 4 = 28\n",
            "7 x 5 = 35\n",
            "7 x 6 = 42\n",
            "7 x 7 = 49\n",
            "7 x 8 = 56\n",
            "7 x 9 = 63\n",
            "\n",
            "8 x 1 =  8\n",
            "8 x 2 = 16\n",
            "8 x 3 = 24\n",
            "8 x 4 = 32\n",
            "8 x 5 = 40\n",
            "8 x 6 = 48\n",
            "8 x 7 = 56\n",
            "8 x 8 = 64\n",
            "8 x 9 = 72\n",
            "\n",
            "9 x 1 =  9\n",
            "9 x 2 = 18\n",
            "9 x 3 = 27\n",
            "9 x 4 = 36\n",
            "9 x 5 = 45\n",
            "9 x 6 = 54\n",
            "9 x 7 = 63\n",
            "9 x 8 = 72\n",
            "9 x 9 = 81\n",
            "\n"
          ]
        }
      ]
    },
    {
      "cell_type": "markdown",
      "source": [
        "### Quiz3 구구단을 만들고 2,3,4,5, 줄바꿔서 6,7,8,9을 출력하시오"
      ],
      "metadata": {
        "id": "9dNbFRJEHSVy"
      }
    },
    {
      "cell_type": "code",
      "source": [
        "k= int(input(\"구구단 단수 입력 : \"))\n",
        "for a in range(1,10):\n",
        "  for b in range(2,6):\n",
        "    print(\"%d x %d = %2d\" % (b,a,a*b), end=\"\\t\")\n",
        "  print(\"\")\n",
        "print(\"\\n\")\n",
        "c,d=0,0\n",
        "for c in range(1,10):\n",
        "  for d in range(6,10):\n",
        "    print(\"%d x %d = %2d\" % (d,c,c*d), end=\"\\t\")\n",
        "  print(\"\")\n"
      ],
      "metadata": {
        "id": "0a4NeHcvHi_q",
        "colab": {
          "base_uri": "https://localhost:8080/"
        },
        "outputId": "5b3358d5-1f7a-4c7d-b0d3-6e88539f1a69"
      },
      "execution_count": null,
      "outputs": [
        {
          "output_type": "stream",
          "name": "stdout",
          "text": [
            "구구단 단수 입력 : 1\n",
            "2 x 1 =  2\t3 x 1 =  3\t4 x 1 =  4\t5 x 1 =  5\t\n",
            "2 x 2 =  4\t3 x 2 =  6\t4 x 2 =  8\t5 x 2 = 10\t\n",
            "2 x 3 =  6\t3 x 3 =  9\t4 x 3 = 12\t5 x 3 = 15\t\n",
            "2 x 4 =  8\t3 x 4 = 12\t4 x 4 = 16\t5 x 4 = 20\t\n",
            "2 x 5 = 10\t3 x 5 = 15\t4 x 5 = 20\t5 x 5 = 25\t\n",
            "2 x 6 = 12\t3 x 6 = 18\t4 x 6 = 24\t5 x 6 = 30\t\n",
            "2 x 7 = 14\t3 x 7 = 21\t4 x 7 = 28\t5 x 7 = 35\t\n",
            "2 x 8 = 16\t3 x 8 = 24\t4 x 8 = 32\t5 x 8 = 40\t\n",
            "2 x 9 = 18\t3 x 9 = 27\t4 x 9 = 36\t5 x 9 = 45\t\n",
            "\n",
            "\n",
            "6 x 1 =  6\t7 x 1 =  7\t8 x 1 =  8\t9 x 1 =  9\t\n",
            "6 x 2 = 12\t7 x 2 = 14\t8 x 2 = 16\t9 x 2 = 18\t\n",
            "6 x 3 = 18\t7 x 3 = 21\t8 x 3 = 24\t9 x 3 = 27\t\n",
            "6 x 4 = 24\t7 x 4 = 28\t8 x 4 = 32\t9 x 4 = 36\t\n",
            "6 x 5 = 30\t7 x 5 = 35\t8 x 5 = 40\t9 x 5 = 45\t\n",
            "6 x 6 = 36\t7 x 6 = 42\t8 x 6 = 48\t9 x 6 = 54\t\n",
            "6 x 7 = 42\t7 x 7 = 49\t8 x 7 = 56\t9 x 7 = 63\t\n",
            "6 x 8 = 48\t7 x 8 = 56\t8 x 8 = 64\t9 x 8 = 72\t\n",
            "6 x 9 = 54\t7 x 9 = 63\t8 x 9 = 72\t9 x 9 = 81\t\n"
          ]
        }
      ]
    },
    {
      "cell_type": "markdown",
      "source": [
        "# CH3 자료형\n",
        "## 1. 리스트 인덱스, 슬라이싱"
      ],
      "metadata": {
        "id": "AQWvByvOiCZi"
      }
    },
    {
      "cell_type": "code",
      "source": [
        "a = [1,2,3,4,5,6,7,8,9]\n",
        "print(a)\n",
        "print(a[0])"
      ],
      "metadata": {
        "colab": {
          "base_uri": "https://localhost:8080/"
        },
        "id": "2n50tgrWiI76",
        "outputId": "139c4e0d-88f1-4cc3-95d7-66a5d6d76877"
      },
      "execution_count": null,
      "outputs": [
        {
          "output_type": "stream",
          "name": "stdout",
          "text": [
            "[1, 2, 3, 4, 5, 6, 7, 8, 9]\n",
            "1\n"
          ]
        }
      ]
    },
    {
      "cell_type": "code",
      "source": [
        "a = [1,2,3,4,5,6,7,8,9]\n",
        "print(a[-1])\n",
        "print(a[-2])"
      ],
      "metadata": {
        "colab": {
          "base_uri": "https://localhost:8080/"
        },
        "id": "S97FRdkOjzSi",
        "outputId": "c428c035-c202-4570-c5ad-a77ad2bf02bd"
      },
      "execution_count": null,
      "outputs": [
        {
          "output_type": "stream",
          "name": "stdout",
          "text": [
            "9\n",
            "8\n"
          ]
        }
      ]
    },
    {
      "cell_type": "code",
      "source": [
        "a = [1,2,3,4,5,6,7,8,9]\n",
        "print(a[1:9:2])\n",
        "print(a[0:9:2])"
      ],
      "metadata": {
        "colab": {
          "base_uri": "https://localhost:8080/"
        },
        "id": "46zCRG-8kIMJ",
        "outputId": "b368f282-b4d5-48a9-bfa4-1ae3813386ad"
      },
      "execution_count": null,
      "outputs": [
        {
          "output_type": "stream",
          "name": "stdout",
          "text": [
            "[2, 4, 6, 8]\n",
            "[1, 3, 5, 7, 9]\n"
          ]
        }
      ]
    },
    {
      "cell_type": "code",
      "source": [
        "a = [1,2,3,4,5,6,7,8,9]\n",
        "print(a[:4])\n",
        "print(a[5:])"
      ],
      "metadata": {
        "colab": {
          "base_uri": "https://localhost:8080/"
        },
        "id": "Zse9qk8jkWgY",
        "outputId": "c93fb75b-5cd2-4213-f98f-70fd6ec3f80b"
      },
      "execution_count": null,
      "outputs": [
        {
          "output_type": "stream",
          "name": "stdout",
          "text": [
            "[1, 2, 3, 4]\n",
            "[6, 7, 8, 9]\n"
          ]
        }
      ]
    },
    {
      "cell_type": "code",
      "source": [
        "a=[1,2,3,4,5,6,7,8,9]\n",
        "print(len(a))\n",
        "print(len(a)-1)"
      ],
      "metadata": {
        "colab": {
          "base_uri": "https://localhost:8080/"
        },
        "id": "62-gjO44k8Ao",
        "outputId": "067b5372-fe3b-4e3a-90d8-0c7a1a52166a"
      },
      "execution_count": null,
      "outputs": [
        {
          "output_type": "stream",
          "name": "stdout",
          "text": [
            "9\n",
            "8\n"
          ]
        }
      ]
    },
    {
      "cell_type": "code",
      "source": [
        "b = [1,2,3,4,5,6]\n",
        "b[0] = \"apple\"\n",
        "b[1] = 99\n",
        "b[5] = [1,2,3]\n",
        "print(b)"
      ],
      "metadata": {
        "colab": {
          "base_uri": "https://localhost:8080/"
        },
        "id": "b6f9JRQWlM3h",
        "outputId": "6ca69412-948f-4f0e-e9bd-03fdc2795dc3"
      },
      "execution_count": null,
      "outputs": [
        {
          "output_type": "stream",
          "name": "stdout",
          "text": [
            "['apple', 99, 3, 4, 5, [1, 2, 3]]\n"
          ]
        }
      ]
    },
    {
      "cell_type": "markdown",
      "source": [
        "## list add\n"
      ],
      "metadata": {
        "id": "_U86yDfPmPlg"
      }
    },
    {
      "cell_type": "code",
      "source": [
        "a = [1,2,3]\n",
        "b = [4,5,6]\n",
        "c = a + b\n",
        "print(a+b)\n",
        "print(c)\n",
        "print(c*3)"
      ],
      "metadata": {
        "colab": {
          "base_uri": "https://localhost:8080/"
        },
        "id": "QdFkpbR8mSxQ",
        "outputId": "6d4f31c7-b18b-4188-dcda-f3aba2cb5a27"
      },
      "execution_count": null,
      "outputs": [
        {
          "output_type": "stream",
          "name": "stdout",
          "text": [
            "[1, 2, 3, 4, 5, 6]\n",
            "[1, 2, 3, 4, 5, 6]\n",
            "[1, 2, 3, 4, 5, 6, 1, 2, 3, 4, 5, 6, 1, 2, 3, 4, 5, 6]\n"
          ]
        }
      ]
    },
    {
      "cell_type": "markdown",
      "source": [
        "#### 함수 이용"
      ],
      "metadata": {
        "id": "gLrvEs_8muFQ"
      }
    },
    {
      "cell_type": "code",
      "source": [
        "k = [\"a\", \"b\", \"c\", \"d\"]\n",
        "k.remove(\"c\") # 해당 요소값 삭제\n",
        "print(k)\n",
        "k.append(\"f\") # 맨뒤에 추가\n",
        "print(k)"
      ],
      "metadata": {
        "colab": {
          "base_uri": "https://localhost:8080/"
        },
        "id": "qDeqbaRvmyvI",
        "outputId": "3b380c45-da3d-4908-f29e-8315091dde8e"
      },
      "execution_count": null,
      "outputs": [
        {
          "output_type": "stream",
          "name": "stdout",
          "text": [
            "['a', 'b', 'd']\n",
            "['a', 'b', 'd', 'f']\n"
          ]
        }
      ]
    },
    {
      "cell_type": "code",
      "source": [
        "k = [1,2,3,4,5]\n",
        "k.remove(3) # 해당 요소값 삭제\n",
        "print(k)\n",
        "k.append(6) # 맨뒤에 추가\n",
        "print(k)"
      ],
      "metadata": {
        "colab": {
          "base_uri": "https://localhost:8080/"
        },
        "id": "MeCSy4egnqhf",
        "outputId": "eed3d95a-4ba6-4728-bd4d-cecb0040df64"
      },
      "execution_count": null,
      "outputs": [
        {
          "output_type": "stream",
          "name": "stdout",
          "text": [
            "[1, 2, 4, 5]\n",
            "[1, 2, 4, 5, 6]\n"
          ]
        }
      ]
    },
    {
      "cell_type": "code",
      "source": [
        "j = \"God is love!\"\n",
        "print(j[:3])\n",
        "print(j[4:6])\n",
        "print(j[7:])\n"
      ],
      "metadata": {
        "colab": {
          "base_uri": "https://localhost:8080/"
        },
        "id": "IBUebDmGn8Us",
        "outputId": "d5374bbf-c858-43b4-e956-3c309cd32541"
      },
      "execution_count": null,
      "outputs": [
        {
          "output_type": "stream",
          "name": "stdout",
          "text": [
            "God\n",
            "is\n",
            "love!\n"
          ]
        }
      ]
    },
    {
      "cell_type": "code",
      "source": [
        "j = \" God is love!\"\n",
        "print(j.upper())\n",
        "print(j.lower())\n",
        "print(j.strip())"
      ],
      "metadata": {
        "colab": {
          "base_uri": "https://localhost:8080/"
        },
        "id": "JxsFcZS_oh6Q",
        "outputId": "68daff30-5712-4960-ba32-e2679d2dee76"
      },
      "execution_count": null,
      "outputs": [
        {
          "output_type": "stream",
          "name": "stdout",
          "text": [
            " GOD IS LOVE!\n",
            " god is love!\n",
            "God is love!\n"
          ]
        }
      ]
    },
    {
      "cell_type": "code",
      "source": [
        "a = \"apple, mango, banana\"\n",
        "print(a.split(\".\"))"
      ],
      "metadata": {
        "colab": {
          "base_uri": "https://localhost:8080/"
        },
        "id": "CTr1aCDFs2i-",
        "outputId": "4dc44f22-bc0c-4bc5-c75a-66ffb219dfe0"
      },
      "execution_count": null,
      "outputs": [
        {
          "output_type": "stream",
          "name": "stdout",
          "text": [
            "['apple, mango, banana']\n"
          ]
        }
      ]
    },
    {
      "cell_type": "code",
      "source": [
        "a = [\"apple\", \"banana\", \"cherry\"]\n",
        "a.append(\"Orange\") # 지정한곳에 삽입\n",
        "print(a)"
      ],
      "metadata": {
        "colab": {
          "base_uri": "https://localhost:8080/"
        },
        "id": "o3-QdKNutHz-",
        "outputId": "80c3fbc4-18bc-45a6-b44f-560f2dd1e731"
      },
      "execution_count": null,
      "outputs": [
        {
          "output_type": "stream",
          "name": "stdout",
          "text": [
            "['apple', 'banana', 'cherry', 'Orange']\n"
          ]
        }
      ]
    },
    {
      "cell_type": "code",
      "source": [
        "a = [\"apple\", \"banana\", \"cherry\", \"banana\"]\n",
        "a.remove(\"banana\")\n",
        "print(a) "
      ],
      "metadata": {
        "colab": {
          "base_uri": "https://localhost:8080/"
        },
        "id": "wf9m72MJt2Vm",
        "outputId": "a0ec79ff-8eaf-4095-b500-0fe72a6eaf76"
      },
      "execution_count": null,
      "outputs": [
        {
          "output_type": "stream",
          "name": "stdout",
          "text": [
            "['apple', 'cherry', 'banana']\n"
          ]
        }
      ]
    },
    {
      "cell_type": "code",
      "source": [
        "a = [\"apple\", \"banana\", \"cherry\"]\n",
        "a.pop() # 맨뒤 지움\n",
        "print(a)\n",
        "a.pop(1)\n",
        "print(a)"
      ],
      "metadata": {
        "colab": {
          "base_uri": "https://localhost:8080/"
        },
        "id": "zGDQAsNOuXWe",
        "outputId": "ecb8030c-4188-4b28-c0a7-37ff469b48fb"
      },
      "execution_count": null,
      "outputs": [
        {
          "output_type": "stream",
          "name": "stdout",
          "text": [
            "['apple', 'banana']\n",
            "['apple']\n"
          ]
        }
      ]
    },
    {
      "cell_type": "code",
      "source": [
        "fruit = [\"사과\", \"배\", \"오렌지\"]\n",
        "for i in fruit:\n",
        "  print(i)"
      ],
      "metadata": {
        "colab": {
          "base_uri": "https://localhost:8080/"
        },
        "id": "bInl4u0fvGHt",
        "outputId": "0271da28-7acd-4c71-b23b-c37ba0d2e2d0"
      },
      "execution_count": null,
      "outputs": [
        {
          "output_type": "stream",
          "name": "stdout",
          "text": [
            "사과\n",
            "배\n",
            "오렌지\n"
          ]
        }
      ]
    },
    {
      "cell_type": "code",
      "source": [
        "fruit = [\"감\", \"배추\", \"배\"]\n",
        "for i in range(len(fruit)):\n",
        "  print(fruit)"
      ],
      "metadata": {
        "colab": {
          "base_uri": "https://localhost:8080/"
        },
        "id": "94VqLx-svYQ9",
        "outputId": "33204fd1-6aff-4f1e-e192-dd4d0e6b52ef"
      },
      "execution_count": null,
      "outputs": [
        {
          "output_type": "stream",
          "name": "stdout",
          "text": [
            "['감', '배추', '배']\n",
            "['감', '배추', '배']\n",
            "['감', '배추', '배']\n"
          ]
        }
      ]
    },
    {
      "cell_type": "markdown",
      "source": [
        "## SORT"
      ],
      "metadata": {
        "id": "b5Gq-t1MwDMV"
      }
    },
    {
      "cell_type": "code",
      "source": [
        "a = [7,5,3,8,2,0,1,4,6,9]\n",
        "a.sort()\n",
        "print(a)"
      ],
      "metadata": {
        "colab": {
          "base_uri": "https://localhost:8080/"
        },
        "id": "Vx7tAFPdwFXF",
        "outputId": "1df8bbbe-13f9-4466-a981-ad46784e942d"
      },
      "execution_count": null,
      "outputs": [
        {
          "output_type": "stream",
          "name": "stdout",
          "text": [
            "[0, 1, 2, 3, 4, 5, 6, 7, 8, 9]\n"
          ]
        }
      ]
    },
    {
      "cell_type": "code",
      "source": [
        "a = [7,5,3,8,2,0,1,4,6,9]\n",
        "a.sort(reverse = True)\n",
        "print(a)\n",
        "a.sort()\n",
        "print(a)"
      ],
      "metadata": {
        "colab": {
          "base_uri": "https://localhost:8080/"
        },
        "id": "BMMJH2WawPrL",
        "outputId": "8c61f4ad-4004-4e6b-dabb-6f9b84850bd6"
      },
      "execution_count": null,
      "outputs": [
        {
          "output_type": "stream",
          "name": "stdout",
          "text": [
            "[9, 8, 7, 6, 5, 4, 3, 2, 1, 0]\n",
            "[0, 1, 2, 3, 4, 5, 6, 7, 8, 9]\n"
          ]
        }
      ]
    },
    {
      "cell_type": "code",
      "source": [
        "fruit = [\"Kiwi\", \"apple\", \"Orange\", \"banana\"]\n",
        "fruit.sort() # 대소문자 구분\n",
        "print(fruit)\n",
        "fruit.sort(key=str.lower) # 대소문자 구분없이\n",
        "print(fruit)\n",
        "fruit.reverse()\n",
        "print(fruit)"
      ],
      "metadata": {
        "colab": {
          "base_uri": "https://localhost:8080/"
        },
        "id": "8TeICsotwusF",
        "outputId": "f6a48dbe-d9bc-4d16-a9b1-bce185b24f3b"
      },
      "execution_count": null,
      "outputs": [
        {
          "output_type": "stream",
          "name": "stdout",
          "text": [
            "['Kiwi', 'Orange', 'apple', 'banana']\n",
            "['apple', 'banana', 'Kiwi', 'Orange']\n",
            "['Orange', 'Kiwi', 'banana', 'apple']\n"
          ]
        }
      ]
    },
    {
      "cell_type": "code",
      "source": [
        "#List 복사\n",
        "fruit = [\"Kiwi\", \"apple\", \"Orange\", \"banana\"]\n",
        "myList = fruit.copy()\n",
        "print(myList)\n",
        "cyList = list(fruit)\n",
        "print(cyList)"
      ],
      "metadata": {
        "colab": {
          "base_uri": "https://localhost:8080/"
        },
        "id": "z65OKsFzzfT-",
        "outputId": "1b215f96-8a8c-452f-ab39-bf5f07fe5cd3"
      },
      "execution_count": null,
      "outputs": [
        {
          "output_type": "stream",
          "name": "stdout",
          "text": [
            "['Kiwi', 'apple', 'Orange', 'banana']\n",
            "['Kiwi', 'apple', 'Orange', 'banana']\n"
          ]
        }
      ]
    },
    {
      "cell_type": "markdown",
      "source": [
        "## 2. Tuple 튜플"
      ],
      "metadata": {
        "id": "164wzqq11AJD"
      }
    },
    {
      "cell_type": "code",
      "source": [
        " l = [1,2,3]\n",
        " t = (5,6,7)\n",
        " print(type(l))\n",
        " print(type(t))"
      ],
      "metadata": {
        "colab": {
          "base_uri": "https://localhost:8080/"
        },
        "id": "PEIALGto1EsD",
        "outputId": "ffb42054-23a7-4cbb-84aa-182b0728e3b9"
      },
      "execution_count": null,
      "outputs": [
        {
          "output_type": "stream",
          "name": "stdout",
          "text": [
            "<class 'list'>\n",
            "<class 'tuple'>\n"
          ]
        }
      ]
    },
    {
      "cell_type": "code",
      "source": [
        " l = [1,2,3]\n",
        " t = (5,6,7)\n",
        " l[0] = 4\n",
        " print(l)\n",
        " # t[0] = 8\n",
        " print(t)"
      ],
      "metadata": {
        "colab": {
          "base_uri": "https://localhost:8080/"
        },
        "id": "eQxx5Ji31eVT",
        "outputId": "d73c6955-21d5-462d-e04e-23a7ef3b461b"
      },
      "execution_count": null,
      "outputs": [
        {
          "output_type": "stream",
          "name": "stdout",
          "text": [
            "[4, 2, 3]\n",
            "(5, 6, 7)\n"
          ]
        }
      ]
    },
    {
      "cell_type": "code",
      "source": [
        "f = (\"apple\", \"banana\", \"cherry\")\n",
        "print(len(f))"
      ],
      "metadata": {
        "colab": {
          "base_uri": "https://localhost:8080/"
        },
        "id": "amg6701j1-Yb",
        "outputId": "62da6370-ac7c-4e40-f211-2061e1f59af5"
      },
      "execution_count": null,
      "outputs": [
        {
          "output_type": "stream",
          "name": "stdout",
          "text": [
            "3\n"
          ]
        }
      ]
    },
    {
      "cell_type": "code",
      "source": [
        "t = (\"kiwi\")\n",
        "print(t)\n",
        "print(type(t))"
      ],
      "metadata": {
        "colab": {
          "base_uri": "https://localhost:8080/"
        },
        "id": "BTylAAEZ2Jzd",
        "outputId": "b1d68e93-988e-4e87-b08a-7d5244a7c570"
      },
      "execution_count": null,
      "outputs": [
        {
          "output_type": "stream",
          "name": "stdout",
          "text": [
            "kiwi\n",
            "<class 'str'>\n"
          ]
        }
      ]
    },
    {
      "cell_type": "code",
      "source": [
        "t = (\"kiwi\",) # 튜플로 인식하기 위해 \",\" 필요\n",
        "print(t)\n",
        "print(type(t))"
      ],
      "metadata": {
        "colab": {
          "base_uri": "https://localhost:8080/"
        },
        "id": "e5g5niMa2Yvn",
        "outputId": "0827433a-f42a-4edd-fced-097a0a416c05"
      },
      "execution_count": null,
      "outputs": [
        {
          "output_type": "stream",
          "name": "stdout",
          "text": [
            "('kiwi',)\n",
            "<class 'tuple'>\n"
          ]
        }
      ]
    },
    {
      "cell_type": "code",
      "source": [
        "f = (\"banana\", \"apple\", \"kiwi\", \"cherry\", \"Orange\")\n",
        "print(f[:4])\n",
        "print(f[3:])\n"
      ],
      "metadata": {
        "colab": {
          "base_uri": "https://localhost:8080/"
        },
        "id": "0psLoOu92xxT",
        "outputId": "3d337e7f-6d5a-4557-e748-4aefdb72cff7"
      },
      "execution_count": null,
      "outputs": [
        {
          "output_type": "stream",
          "name": "stdout",
          "text": [
            "('banana', 'apple', 'kiwi', 'cherry')\n",
            "('cherry', 'Orange')\n"
          ]
        }
      ]
    },
    {
      "cell_type": "code",
      "source": [
        "f = (\"banana\", \"apple\", \"kiwi\", \"cherry\", \"Orange\")\n",
        "if \"apple\" in f:\n",
        "  print(\"Yes\")\n",
        "else:\n",
        "  print(\"NO\")"
      ],
      "metadata": {
        "colab": {
          "base_uri": "https://localhost:8080/"
        },
        "id": "Sbw7WtQ43aSy",
        "outputId": "3d28363a-67f9-4459-b200-2fd23b6c5097"
      },
      "execution_count": null,
      "outputs": [
        {
          "output_type": "stream",
          "name": "stdout",
          "text": [
            "Yes\n"
          ]
        }
      ]
    },
    {
      "cell_type": "markdown",
      "source": [
        "#### Tuple <-> List\n"
      ],
      "metadata": {
        "id": "5nwYn2uZ33_i"
      }
    },
    {
      "cell_type": "code",
      "source": [
        "# 튜플에 추가하는 방법\n",
        "t = (\"apple\", \"banana\", \"cherry\")\n",
        "y = list(t)\n",
        "print(type(y))\n",
        "y.append(\"Orange\")\n",
        "t = tuple(y)\n",
        "print(t)"
      ],
      "metadata": {
        "colab": {
          "base_uri": "https://localhost:8080/"
        },
        "id": "k2m1gltH3-QS",
        "outputId": "504e1bb4-f1fa-432b-e8de-009ba7d76c30"
      },
      "execution_count": null,
      "outputs": [
        {
          "output_type": "stream",
          "name": "stdout",
          "text": [
            "<class 'list'>\n",
            "('apple', 'banana', 'cherry', 'Orange')\n"
          ]
        }
      ]
    },
    {
      "cell_type": "code",
      "source": [
        "# List -> Tuple\n",
        "company = [\"LG\", \"SK\", \"Apple\"]\n",
        "t = tuple(company)\n",
        "print(t)"
      ],
      "metadata": {
        "colab": {
          "base_uri": "https://localhost:8080/"
        },
        "id": "v8gOqv9B5BLa",
        "outputId": "1af4199a-6f11-42db-bc6a-0c05e151be95"
      },
      "execution_count": null,
      "outputs": [
        {
          "output_type": "stream",
          "name": "stdout",
          "text": [
            "('LG', 'SK', 'Apple')\n"
          ]
        }
      ]
    },
    {
      "cell_type": "code",
      "source": [
        "c = (\"LG\",\"SK\",\"Apple\")\n",
        "d = (\"Samsug\",)\n",
        "c += d\n",
        "print(c)"
      ],
      "metadata": {
        "colab": {
          "base_uri": "https://localhost:8080/"
        },
        "id": "VNu2bNG96Kqa",
        "outputId": "38ca67a1-e4f9-4f11-9bb3-40c491fd549d"
      },
      "execution_count": null,
      "outputs": [
        {
          "output_type": "stream",
          "name": "stdout",
          "text": [
            "('LG', 'SK', 'Apple', 'Samsug')\n"
          ]
        }
      ]
    },
    {
      "cell_type": "code",
      "source": [
        "t = (\"감\", \"밤\", \"대추\")\n",
        "l = list(t)\n",
        "l.remove(\"대추\")\n",
        "t = tuple(l)\n",
        "print(t)\n"
      ],
      "metadata": {
        "colab": {
          "base_uri": "https://localhost:8080/"
        },
        "id": "qOuyjdz46pI0",
        "outputId": "575d8533-b7ea-4fea-dc36-a31a837e7af8"
      },
      "execution_count": null,
      "outputs": [
        {
          "output_type": "stream",
          "name": "stdout",
          "text": [
            "('감', '밤')\n"
          ]
        }
      ]
    },
    {
      "cell_type": "markdown",
      "source": [
        "## 3.Dict 사전자료형\n"
      ],
      "metadata": {
        "id": "B3tIMNdMA6IH"
      }
    },
    {
      "cell_type": "code",
      "source": [
        "d = {\n",
        "    \"a\" :1,\n",
        "    \"b\" :2,\n",
        "    \"c\" :3,\n",
        "}\n",
        "print(d)\n",
        "print(type(d))\n"
      ],
      "metadata": {
        "colab": {
          "base_uri": "https://localhost:8080/"
        },
        "id": "NGFFtmqzA5gI",
        "outputId": "49cf7b97-751e-4f68-c779-978568d1e9eb"
      },
      "execution_count": null,
      "outputs": [
        {
          "output_type": "stream",
          "name": "stdout",
          "text": [
            "{'a': 1, 'b': 2, 'c': 3}\n",
            "<class 'dict'>\n"
          ]
        }
      ]
    },
    {
      "cell_type": "code",
      "source": [
        "d = {\n",
        "    \"a\" :1,\n",
        "    \"b\" :2,\n",
        "    \"c\" :3,\n",
        "}\n",
        "print(d.keys())\n",
        "print(d.values())\n",
        "print(d.items())"
      ],
      "metadata": {
        "colab": {
          "base_uri": "https://localhost:8080/"
        },
        "id": "pKoj0Ju1CPrX",
        "outputId": "868720cc-86ad-4c05-fc70-9b757ef02a10"
      },
      "execution_count": null,
      "outputs": [
        {
          "output_type": "stream",
          "name": "stdout",
          "text": [
            "dict_keys(['a', 'b', 'c'])\n",
            "dict_values([1, 2, 3])\n",
            "dict_items([('a', 1), ('b', 2), ('c', 3)])\n"
          ]
        }
      ]
    },
    {
      "cell_type": "code",
      "source": [
        "car = {\n",
        "    \"maker\" : \"Hyundai\",\n",
        "    \"model\" : \"pony2\",\n",
        "    \"year\" : 1994\n",
        "}\n",
        "print(car)\n",
        "print(len(car))\n",
        "car[\"year\"] = 2000\n",
        "print(car)\n",
        "car[\"color\"] = \"Blue\"\n",
        "print(car)\n",
        "print(car[\"maker\"])"
      ],
      "metadata": {
        "colab": {
          "base_uri": "https://localhost:8080/"
        },
        "id": "GpBHFZLPCpRX",
        "outputId": "61024b8b-ebdd-4fc2-c266-a152592f9d86"
      },
      "execution_count": null,
      "outputs": [
        {
          "output_type": "stream",
          "name": "stdout",
          "text": [
            "{'maker': 'Hyundai', 'model': 'pony2', 'year': 1994}\n",
            "3\n",
            "{'maker': 'Hyundai', 'model': 'pony2', 'year': 2000}\n",
            "{'maker': 'Hyundai', 'model': 'pony2', 'year': 2000, 'color': 'Blue'}\n",
            "Hyundai\n"
          ]
        }
      ]
    },
    {
      "cell_type": "code",
      "source": [
        "car = {\n",
        "    \"maker\" : \"BMW\",\n",
        "    \"model\" : \"74OLI\",\n",
        "    \"year\" : 2023\n",
        "}\n",
        "car.pop(\"model\") # 해당 키값을 삭제\n",
        "print(car)"
      ],
      "metadata": {
        "colab": {
          "base_uri": "https://localhost:8080/"
        },
        "id": "z7LhvD3NEXXf",
        "outputId": "646a4e86-692b-40a1-d125-6b0c2c0e568e"
      },
      "execution_count": null,
      "outputs": [
        {
          "output_type": "stream",
          "name": "stdout",
          "text": [
            "{'maker': 'BMW', 'year': 2023}\n"
          ]
        }
      ]
    },
    {
      "cell_type": "code",
      "source": [
        "car = {\n",
        "    \"maker\" : \"BMW\",\n",
        "    \"model\" : \"GT\",\n",
        "    \"year\" : 2023\n",
        "}\n",
        "car.popitem() # 맨뒤 삭제\n",
        "print(car)"
      ],
      "metadata": {
        "colab": {
          "base_uri": "https://localhost:8080/"
        },
        "id": "7ydVlqHGEyIm",
        "outputId": "4c871286-dba7-4222-ff2a-4ff5e29f59ab"
      },
      "execution_count": null,
      "outputs": [
        {
          "output_type": "stream",
          "name": "stdout",
          "text": [
            "{'maker': 'BMW', 'model': 'GT'}\n"
          ]
        }
      ]
    },
    {
      "cell_type": "code",
      "source": [
        "car = {\n",
        "    \"maker\" : \"BMW\",\n",
        "    \"model\" : \"GT\",\n",
        "    \"year\" : 2023\n",
        "}\n",
        "car.clear() # 비움\n",
        "print(car)\n",
        "car[\"maker\"] = \"KIA\"\n",
        "print(car)"
      ],
      "metadata": {
        "colab": {
          "base_uri": "https://localhost:8080/"
        },
        "id": "0VKBChE0FFoe",
        "outputId": "655549ce-96d9-4bee-8018-8ec33424307a"
      },
      "execution_count": null,
      "outputs": [
        {
          "output_type": "stream",
          "name": "stdout",
          "text": [
            "{}\n",
            "{'maker': 'KIA'}\n"
          ]
        }
      ]
    },
    {
      "cell_type": "code",
      "source": [
        "car = {\n",
        "    \"maker\" : \"BMW\",\n",
        "    \"model\" : \"GT\",\n",
        "    \"year\" : 2023\n",
        "}\n",
        "del car\n",
        "# print(car)"
      ],
      "metadata": {
        "id": "L98X00-9Ff6e"
      },
      "execution_count": null,
      "outputs": []
    },
    {
      "cell_type": "code",
      "source": [
        "car = {\n",
        "    \"maker\" : \"BMW\",\n",
        "    \"model\" : \"i4\",\n",
        "    \"year\" : 2023\n",
        "}\n",
        "for x in car:\n",
        "  print(car[x])"
      ],
      "metadata": {
        "colab": {
          "base_uri": "https://localhost:8080/"
        },
        "id": "qg2oPM0NGFju",
        "outputId": "33bdc00c-3e2f-4a0a-88cf-bf810a1f5d1a"
      },
      "execution_count": null,
      "outputs": [
        {
          "output_type": "stream",
          "name": "stdout",
          "text": [
            "BMW\n",
            "i4\n",
            "2023\n"
          ]
        }
      ]
    },
    {
      "cell_type": "code",
      "source": [
        "car = {\n",
        "    \"maker\" : \"BMW\",\n",
        "    \"model\" : \"i4\",\n",
        "    \"year\" : 2023\n",
        "}\n",
        "for x in car.values():\n",
        "  print(x)"
      ],
      "metadata": {
        "colab": {
          "base_uri": "https://localhost:8080/"
        },
        "id": "Dywvs3zEGgbW",
        "outputId": "80769f86-22b9-4387-f0f8-6099997216ff"
      },
      "execution_count": null,
      "outputs": [
        {
          "output_type": "stream",
          "name": "stdout",
          "text": [
            "BMW\n",
            "i4\n",
            "2023\n"
          ]
        }
      ]
    },
    {
      "cell_type": "code",
      "source": [
        "car = {\n",
        "    \"maker\" : \"BMW\",\n",
        "    \"model\" : \"i4\",\n",
        "    \"year\" : 2023\n",
        "}\n",
        "for x, y in car.items():\n",
        "  print(x,y)"
      ],
      "metadata": {
        "colab": {
          "base_uri": "https://localhost:8080/"
        },
        "id": "VgujWLNqGsju",
        "outputId": "78ac2b57-379f-444b-8abc-2fab52eafd15"
      },
      "execution_count": null,
      "outputs": [
        {
          "output_type": "stream",
          "name": "stdout",
          "text": [
            "maker BMW\n",
            "model i4\n",
            "year 2023\n"
          ]
        }
      ]
    },
    {
      "cell_type": "code",
      "source": [
        "car = {\n",
        "    \"maker\" : \"BMW\",\n",
        "    \"model\" : \"i4\",\n",
        "    \"year\" : 2023\n",
        "}\n",
        "myCar = car.copy()\n",
        "print(myCar)"
      ],
      "metadata": {
        "colab": {
          "base_uri": "https://localhost:8080/"
        },
        "id": "zGP2GONXHZ6l",
        "outputId": "109b2197-19bb-4ffd-b84c-1a06b3128c37"
      },
      "execution_count": null,
      "outputs": [
        {
          "output_type": "stream",
          "name": "stdout",
          "text": [
            "{'maker': 'BMW', 'model': 'i4', 'year': 2023}\n"
          ]
        }
      ]
    },
    {
      "cell_type": "code",
      "source": [
        "food = {\n",
        "    \"brand\" : \"Lotte\",\n",
        "    \"model\" : \"Ice Cream\",\n",
        "    \"Price\" : 2000\n",
        "}\n",
        "myFood = dict(food)\n",
        "print(myFood)"
      ],
      "metadata": {
        "colab": {
          "base_uri": "https://localhost:8080/"
        },
        "id": "9QyhlxDQHwwN",
        "outputId": "29eab8e7-6f80-417d-ea46-99d1a6413307"
      },
      "execution_count": null,
      "outputs": [
        {
          "output_type": "stream",
          "name": "stdout",
          "text": [
            "{'brand': 'Lotte', 'model': 'Ice Cream', 'Price': 2000}\n"
          ]
        }
      ]
    },
    {
      "cell_type": "code",
      "source": [
        "name1 = {\"name\" : \"김삿갓\", \"year\" : 1900}\n",
        "name2 = {\"name\" : \"홍길동\", \"year\" : 1800}\n",
        "name3 = {\"name\" : \"김유진\", \"year\" : 2000}\n",
        "family = {\n",
        "    \"name1\" : name1,\n",
        "    \"name2\" : name2,\n",
        "    \"name3\" : name3\n",
        "}\n",
        "print(family)"
      ],
      "metadata": {
        "colab": {
          "base_uri": "https://localhost:8080/"
        },
        "id": "jnPdOPgLIk-U",
        "outputId": "7bef0c84-233e-4808-8b69-f364499acd78"
      },
      "execution_count": null,
      "outputs": [
        {
          "output_type": "stream",
          "name": "stdout",
          "text": [
            "{'name1': {'name': '김삿갓', 'year': 1900}, 'name2': {'name': '홍길동', 'year': 1800}, 'name3': {'name': '김유진', 'year': 2000}}\n"
          ]
        }
      ]
    },
    {
      "cell_type": "markdown",
      "source": [
        "## Quiz\n",
        "이름과 전화번호를 입력 받아 사전 자료형으로 저장하세요"
      ],
      "metadata": {
        "id": "GaWzRiC9KPuR"
      }
    },
    {
      "cell_type": "code",
      "source": [
        "name1 = input(\"이름1:\")\n",
        "name2 = input(\"이름2:\")\n",
        "name3 = input(\"이름3:\")\n",
        "name4 = input(\"전화번호4:\")\n",
        "name5 = input(\"전화번호5:\")\n",
        "name6 = input(\"전화번호6:\")\n",
        "file = {\n",
        "    \"이름\" : name1,\n",
        "    \"전화번호\" : name4,\n",
        "    \"이름\" : name2,\n",
        "    \"전화번호\" : name5,\n",
        "    \"이름\" : name3,\n",
        "    \"전화번호\" : name6\n",
        "}\n",
        "print(file)"
      ],
      "metadata": {
        "colab": {
          "base_uri": "https://localhost:8080/"
        },
        "id": "vrIMgPtjJ9vF",
        "outputId": "3788e2a9-c8cb-4767-d12e-83da07b6a078"
      },
      "execution_count": null,
      "outputs": [
        {
          "output_type": "stream",
          "name": "stdout",
          "text": [
            "이름1:ㅇ\n",
            "이름2:3\n",
            "이름3:5\n",
            "전화번호4:1\n",
            "전화번호5:3\n",
            "전화번호6:5\n",
            "{'이름': '5', '전화번호': '5'}\n"
          ]
        }
      ]
    },
    {
      "cell_type": "code",
      "source": [
        "for i in input(\"이름:\")"
      ],
      "metadata": {
        "colab": {
          "base_uri": "https://localhost:8080/",
          "height": 137
        },
        "id": "W8Y7_Sv4N2O7",
        "outputId": "ebb11f40-d38b-4407-c742-1774189005f3"
      },
      "execution_count": null,
      "outputs": [
        {
          "output_type": "error",
          "ename": "SyntaxError",
          "evalue": "ignored",
          "traceback": [
            "\u001b[0;36m  File \u001b[0;32m\"<ipython-input-143-086a901b3f84>\"\u001b[0;36m, line \u001b[0;32m1\u001b[0m\n\u001b[0;31m    for i in input(\"이름:\")\u001b[0m\n\u001b[0m                         ^\u001b[0m\n\u001b[0;31mSyntaxError\u001b[0m\u001b[0;31m:\u001b[0m invalid syntax\n"
          ]
        }
      ]
    },
    {
      "cell_type": "markdown",
      "source": [
        "#### CH4 조건문, 반복문  \n"
      ],
      "metadata": {
        "id": "va2XNQ-fsU44"
      }
    },
    {
      "cell_type": "markdown",
      "source": [
        "#### 1. 조건문\n"
      ],
      "metadata": {
        "id": "n6eal0PbsfSZ"
      }
    },
    {
      "cell_type": "code",
      "source": [
        "a = int(input(\"숫자 입력:\"))\n",
        "if a > 50 :\n",
        "  if a < 100:\n",
        "    print(\"50보다 크고 100보다 작군요.\")\n",
        "  else : \n",
        "      print(\"와~~ 100보다 크군요.\")\n",
        "else :\n",
        "  print(\"에고~ 50보다 작군요.\")"
      ],
      "metadata": {
        "colab": {
          "base_uri": "https://localhost:8080/"
        },
        "id": "mbu8lVGYsUrh",
        "outputId": "8be03c4f-f551-4c9f-8266-dcc50e9521f0"
      },
      "execution_count": 2,
      "outputs": [
        {
          "output_type": "stream",
          "name": "stdout",
          "text": [
            "숫자 입력:45\n",
            "에고~ 50보다 작군요.\n"
          ]
        }
      ]
    },
    {
      "cell_type": "code",
      "source": [
        "# 성적 처리\n",
        "score = int(input(\"점수 입력해 주세용: \"))\n",
        "\n",
        "if (score > 100):\n",
        "  print(\"0~100점까지 숫자로 입력하세요\")\n",
        "elif(score >= 90):\n",
        "  print(\"A\", end='')\n",
        "elif(score >= 80):\n",
        "  print(\"B\", end='')\n",
        "elif(score >= 70):\n",
        "  print(\"C\", end='')\n",
        "elif(score >= 60):\n",
        "  print(\"D\", end='')\n",
        "else:\n",
        "  print(\"F\", end='')\n",
        "print(\"학점, %d점 입니다.\" %score)"
      ],
      "metadata": {
        "colab": {
          "base_uri": "https://localhost:8080/"
        },
        "id": "-16__9xYth-R",
        "outputId": "46676206-8083-4548-b4e1-c5a77b5682b6"
      },
      "execution_count": 8,
      "outputs": [
        {
          "output_type": "stream",
          "name": "stdout",
          "text": [
            "점수 입력해 주세용: 14\n",
            "F학점, 14점 입니다.\n"
          ]
        }
      ]
    },
    {
      "cell_type": "code",
      "source": [
        "import random\n",
        "\n",
        "numbers = []\n",
        "for num in range(0,10):\n",
        "  numbers.append(random.randrange(0,10))\n",
        "\n",
        "print(\"생성된 리스트\", numbers)\n",
        "\n",
        "for num in range(0,10):\n",
        "  if num not in numbers:\n",
        "    print(\"숫자 %d는 리스트에 없습니다.\" %num)\n",
        "  else:\n",
        "    print(\"숫자 %d는 리스트에 있습니다.\" %num)"
      ],
      "metadata": {
        "colab": {
          "base_uri": "https://localhost:8080/"
        },
        "id": "284e6O3Wv8NZ",
        "outputId": "2d80834c-7fd5-4272-fb36-09b3d6a7256c"
      },
      "execution_count": 9,
      "outputs": [
        {
          "output_type": "stream",
          "name": "stdout",
          "text": [
            "생성된 리스트 [1, 0, 4, 1, 0, 9, 1, 8, 3, 9]\n",
            "숫자 0는 리스트에 있습니다.\n",
            "숫자 1는 리스트에 있습니다.\n",
            "숫자 2는 리스트에 없습니다.\n",
            "숫자 3는 리스트에 있습니다.\n",
            "숫자 4는 리스트에 있습니다.\n",
            "숫자 5는 리스트에 없습니다.\n",
            "숫자 6는 리스트에 없습니다.\n",
            "숫자 7는 리스트에 없습니다.\n",
            "숫자 8는 리스트에 있습니다.\n",
            "숫자 9는 리스트에 있습니다.\n"
          ]
        }
      ]
    },
    {
      "cell_type": "code",
      "source": [
        "# 조건문 이용\n",
        "select, anwser, numStr, num1, num2 = 0,0,\"\",0,0\n",
        "select = int(input(\"1.입력한 수식 계산 2.두 수의 합계 :\"))\n",
        "\n",
        "if select == 1:\n",
        "  numStr = input(\"*** 수식을 입력하세요 :\")\n",
        "  answer = eval(numStr) #1+2\n",
        "  print(\" %s 결과는 %5.1f입니다. \"%(numStr,answer))\n",
        "elif select==2:\n",
        "  num1=int(input(\"*** 첫번째 숫자를 입력하세요: \"))\n",
        "  num2=int(input(\"*** 두번째 숫자를 입력하세요: \"))\n",
        "  for i in range(num1, num2+1):\n",
        "    answer = answer + k\n",
        "  print(\"%d+...+%d는 %d입니다.\" %(num1, num2, answer))\n",
        "else:\n",
        "  print(\"1또는 2만 입력해야합니다.\")"
      ],
      "metadata": {
        "colab": {
          "base_uri": "https://localhost:8080/"
        },
        "id": "aq6ANVqG3oUD",
        "outputId": "21f53ffc-683e-4372-b63d-8ac0e03d881d"
      },
      "execution_count": 16,
      "outputs": [
        {
          "output_type": "stream",
          "name": "stdout",
          "text": [
            "1.입력한 수식 계산 2.두 수의 합계 :1\n",
            "*** 수식을 입력하세요 :99*55\n",
            " 99*55 결과는 5445.0입니다. \n"
          ]
        }
      ]
    },
    {
      "cell_type": "markdown",
      "source": [
        "#### 2. 반복문 for & while\n"
      ],
      "metadata": {
        "id": "eCPaSCSi7J9L"
      }
    },
    {
      "cell_type": "code",
      "source": [
        "for i in range(0,3,1):\n",
        "  print(\"안녕!! %d\" %i)"
      ],
      "metadata": {
        "colab": {
          "base_uri": "https://localhost:8080/"
        },
        "id": "1bLUbm5b7RBx",
        "outputId": "7b3f9dfe-9dfc-49aa-8ca7-ae77eb8c74d0"
      },
      "execution_count": 17,
      "outputs": [
        {
          "output_type": "stream",
          "name": "stdout",
          "text": [
            "안녕!! 0\n",
            "안녕!! 1\n",
            "안녕!! 2\n"
          ]
        }
      ]
    },
    {
      "cell_type": "code",
      "source": [
        "for i in range(0,3,1):\n",
        "  for j in range(0,2,1):\n",
        "    for k in range(0,3,1):\n",
        "      print(\"i:%d, j:%d, k:%d\"%(i,j,k))"
      ],
      "metadata": {
        "colab": {
          "base_uri": "https://localhost:8080/"
        },
        "id": "QrRpJ7vb76lb",
        "outputId": "1c24544e-c002-4afc-f477-15bff0d7579b"
      },
      "execution_count": 20,
      "outputs": [
        {
          "output_type": "stream",
          "name": "stdout",
          "text": [
            "i:0, j:0, k:0\n",
            "i:0, j:0, k:1\n",
            "i:0, j:0, k:2\n",
            "i:0, j:1, k:0\n",
            "i:0, j:1, k:1\n",
            "i:0, j:1, k:2\n",
            "i:1, j:0, k:0\n",
            "i:1, j:0, k:1\n",
            "i:1, j:0, k:2\n",
            "i:1, j:1, k:0\n",
            "i:1, j:1, k:1\n",
            "i:1, j:1, k:2\n",
            "i:2, j:0, k:0\n",
            "i:2, j:0, k:1\n",
            "i:2, j:0, k:2\n",
            "i:2, j:1, k:0\n",
            "i:2, j:1, k:1\n",
            "i:2, j:1, k:2\n"
          ]
        }
      ]
    },
    {
      "cell_type": "code",
      "source": [
        "i,j=0,0\n",
        "for i in range(2,10,1):\n",
        "  for j in range(1,10,1):\n",
        "    print(\"%d x %d = %2d \"%(i,j,i*j),end='')\n",
        "  print(\"\")"
      ],
      "metadata": {
        "colab": {
          "base_uri": "https://localhost:8080/"
        },
        "id": "c_-pRqVi8l1L",
        "outputId": "b040cb6f-59bd-483a-b5c8-9a2ef2a56012"
      },
      "execution_count": 21,
      "outputs": [
        {
          "output_type": "stream",
          "name": "stdout",
          "text": [
            "2 x 1 =  2 2 x 2 =  4 2 x 3 =  6 2 x 4 =  8 2 x 5 = 10 2 x 6 = 12 2 x 7 = 14 2 x 8 = 16 2 x 9 = 18 \n",
            "3 x 1 =  3 3 x 2 =  6 3 x 3 =  9 3 x 4 = 12 3 x 5 = 15 3 x 6 = 18 3 x 7 = 21 3 x 8 = 24 3 x 9 = 27 \n",
            "4 x 1 =  4 4 x 2 =  8 4 x 3 = 12 4 x 4 = 16 4 x 5 = 20 4 x 6 = 24 4 x 7 = 28 4 x 8 = 32 4 x 9 = 36 \n",
            "5 x 1 =  5 5 x 2 = 10 5 x 3 = 15 5 x 4 = 20 5 x 5 = 25 5 x 6 = 30 5 x 7 = 35 5 x 8 = 40 5 x 9 = 45 \n",
            "6 x 1 =  6 6 x 2 = 12 6 x 3 = 18 6 x 4 = 24 6 x 5 = 30 6 x 6 = 36 6 x 7 = 42 6 x 8 = 48 6 x 9 = 54 \n",
            "7 x 1 =  7 7 x 2 = 14 7 x 3 = 21 7 x 4 = 28 7 x 5 = 35 7 x 6 = 42 7 x 7 = 49 7 x 8 = 56 7 x 9 = 63 \n",
            "8 x 1 =  8 8 x 2 = 16 8 x 3 = 24 8 x 4 = 32 8 x 5 = 40 8 x 6 = 48 8 x 7 = 56 8 x 8 = 64 8 x 9 = 72 \n",
            "9 x 1 =  9 9 x 2 = 18 9 x 3 = 27 9 x 4 = 36 9 x 5 = 45 9 x 6 = 54 9 x 7 = 63 9 x 8 = 72 9 x 9 = 81 \n"
          ]
        }
      ]
    },
    {
      "cell_type": "code",
      "source": [
        "# while문\n",
        "j = 0\n",
        "while j<3:\n",
        "  print(\"%d : while문\" %j)\n",
        "  j= j + 1"
      ],
      "metadata": {
        "colab": {
          "base_uri": "https://localhost:8080/"
        },
        "id": "MMG8NJmm9o4D",
        "outputId": "fba612a1-078b-4270-f34e-85f5b325847f"
      },
      "execution_count": 22,
      "outputs": [
        {
          "output_type": "stream",
          "name": "stdout",
          "text": [
            "0 : while문\n",
            "1 : while문\n",
            "2 : while문\n"
          ]
        }
      ]
    },
    {
      "cell_type": "markdown",
      "source": [
        "## Q : for, while 1~10까지의 합을 구하는 코드를 작성하시요"
      ],
      "metadata": {
        "id": "f97RPSWr-eYT"
      }
    },
    {
      "cell_type": "code",
      "source": [
        "#while문\n",
        "i, h = 0,0\n",
        "i = 1\n",
        "while i<11:\n",
        "  h = h + i\n",
        "  i=i+1\n",
        "\n",
        "print(\"1부터 10까지의 합계 : %d\" %h)\n",
        "\n"
      ],
      "metadata": {
        "colab": {
          "base_uri": "https://localhost:8080/"
        },
        "id": "UMtm2oXt-nWk",
        "outputId": "cce937db-2c2e-474c-8af7-ab4ee2ac9793"
      },
      "execution_count": 26,
      "outputs": [
        {
          "output_type": "stream",
          "name": "stdout",
          "text": [
            "1부터 10까지의 합계 : 55\n"
          ]
        }
      ]
    },
    {
      "cell_type": "code",
      "source": [
        "#for문\n",
        "i,h = 0,0\n",
        "i=1\n",
        "for i in range(1,11,1):\n",
        "  h = h+i\n",
        "print(\"1부터 10까지의 합계 : %d\" %h)"
      ],
      "metadata": {
        "colab": {
          "base_uri": "https://localhost:8080/"
        },
        "id": "wiJhcaN5A48M",
        "outputId": "9440ea74-eb4a-420f-e5f9-287c8675fb56"
      },
      "execution_count": 27,
      "outputs": [
        {
          "output_type": "stream",
          "name": "stdout",
          "text": [
            "1부터 10까지의 합계 : 55\n"
          ]
        }
      ]
    },
    {
      "cell_type": "code",
      "source": [
        "while True:\n",
        "  print(\"무한 루프\", end='')\n",
        "  break"
      ],
      "metadata": {
        "colab": {
          "base_uri": "https://localhost:8080/"
        },
        "id": "sIlv9uKLBVgk",
        "outputId": "73e48984-1ab6-43ce-b752-507f07a39ab2"
      },
      "execution_count": 28,
      "outputs": [
        {
          "output_type": "stream",
          "name": "stdout",
          "text": [
            "무한 루프"
          ]
        }
      ]
    },
    {
      "cell_type": "markdown",
      "source": [
        "#### 3. Continue,Break"
      ],
      "metadata": {
        "id": "IgfsK1ZpCc80"
      }
    },
    {
      "cell_type": "code",
      "source": [
        "# break\n",
        "for i in range(1,100):\n",
        "  print(\"for문 %d번, 실행\"%i)\n",
        "  break\n",
        "  print(\"break 아래\")\n",
        "print(\"break 빠짐\")"
      ],
      "metadata": {
        "colab": {
          "base_uri": "https://localhost:8080/"
        },
        "id": "FXUyHO4jCjgu",
        "outputId": "7f5617a4-9818-4723-db0e-cf0f92e4d965"
      },
      "execution_count": 29,
      "outputs": [
        {
          "output_type": "stream",
          "name": "stdout",
          "text": [
            "for문 1번, 실행\n",
            "break 빠짐\n"
          ]
        }
      ]
    },
    {
      "cell_type": "code",
      "source": [
        "hap = 0\n",
        "a, b = 0,0\n",
        "while True:\n",
        "  a=int(input(\"덧셈 첫번째 수 입력: \"))\n",
        "  if a==0:\n",
        "    break\n",
        "  b=int(input(\"덧셈 두번쨰 수 입력: \"))\n",
        "  hap = a + b\n",
        "  print(\"%d + %d = %d\" %(a,b,hap))\n",
        "\n",
        "print(\"break로 탈출\")"
      ],
      "metadata": {
        "colab": {
          "base_uri": "https://localhost:8080/"
        },
        "id": "A4GfmA4mIT1t",
        "outputId": "7ce3ecf8-9b05-4d40-caf6-58f18b36aec7"
      },
      "execution_count": 30,
      "outputs": [
        {
          "output_type": "stream",
          "name": "stdout",
          "text": [
            "덧셈 첫번째 수 입력: 5\n",
            "덧셈 두번쨰 수 입력: 6\n",
            "5 + 6 = 11\n",
            "덧셈 첫번째 수 입력: 0\n",
            "break로 탈출\n"
          ]
        }
      ]
    },
    {
      "cell_type": "code",
      "source": [
        "# continue\n",
        "hap,i=0,0\n",
        "for i in range(1,11):\n",
        "  if i % 2 == 0:\n",
        "    print(\"i:%d\" %i)\n",
        "    continue\n",
        "  hap += i\n",
        "\n",
        "print(\"1~10 합계(2의 배수를 제외): %d\" %hap)"
      ],
      "metadata": {
        "colab": {
          "base_uri": "https://localhost:8080/"
        },
        "id": "VLv-99gOKI71",
        "outputId": "4039e926-0ba8-4ae3-ac59-bbea84535459"
      },
      "execution_count": 31,
      "outputs": [
        {
          "output_type": "stream",
          "name": "stdout",
          "text": [
            "i:2\n",
            "i:4\n",
            "i:6\n",
            "i:8\n",
            "i:10\n",
            "1~10 합계(2의 배수를 제외): 25\n"
          ]
        }
      ]
    },
    {
      "cell_type": "code",
      "source": [
        "fruits = [\"감\", \"밤\", \"대추\"]\n",
        "for x in fruits:\n",
        "  if x ==\"밤\":\n",
        "    continue\n",
        "  print(x)"
      ],
      "metadata": {
        "colab": {
          "base_uri": "https://localhost:8080/"
        },
        "id": "nsP-FiRSL4p-",
        "outputId": "fbed03cd-96e1-4774-a040-2c1db8b4abda"
      },
      "execution_count": 32,
      "outputs": [
        {
          "output_type": "stream",
          "name": "stdout",
          "text": [
            "감\n",
            "대추\n"
          ]
        }
      ]
    },
    {
      "cell_type": "code",
      "source": [
        "for x in range(6):\n",
        "  if x == 3: break\n",
        "  print(x)\n",
        "else:\n",
        "  print(\"끝\")"
      ],
      "metadata": {
        "colab": {
          "base_uri": "https://localhost:8080/"
        },
        "id": "MzLPOv8cMQeu",
        "outputId": "0038b601-d94b-412c-a3d2-7253bc899ba2"
      },
      "execution_count": 33,
      "outputs": [
        {
          "output_type": "stream",
          "name": "stdout",
          "text": [
            "0\n",
            "1\n",
            "2\n"
          ]
        }
      ]
    },
    {
      "cell_type": "code",
      "source": [
        "# pass for문 에러를 피하기 위해 실행하지 않을때 사용\n",
        "for x in [0,1,2]:\n",
        "  pass"
      ],
      "metadata": {
        "id": "ApUrKgjtM_kW"
      },
      "execution_count": null,
      "outputs": []
    },
    {
      "cell_type": "markdown",
      "source": [
        "#### 4.함수"
      ],
      "metadata": {
        "id": "K_QQBtZONff-"
      }
    },
    {
      "cell_type": "code",
      "source": [
        "def plus(v1,v2):\n",
        "  result = 0\n",
        "  result = v1 + v2\n",
        "  return result\n",
        "\n",
        "hap = 0\n",
        "hap = plus(1,2)\n",
        "print(\"1+2=%d\" %hap)\n",
        "hap = plus(4,8)\n",
        "print(\"4+8=%d\" %hap)"
      ],
      "metadata": {
        "colab": {
          "base_uri": "https://localhost:8080/"
        },
        "id": "QVtfgSJpNhm_",
        "outputId": "333c3771-2f65-423f-903c-d2f016ea5f13"
      },
      "execution_count": 34,
      "outputs": [
        {
          "output_type": "stream",
          "name": "stdout",
          "text": [
            "1+2=3\n",
            "4+8=12\n"
          ]
        }
      ]
    },
    {
      "cell_type": "code",
      "source": [
        "# 계산기\n",
        "def calc(v1,v2,op):\n",
        "  result = 0\n",
        "  if op=='+':\n",
        "    result = v1 + v2\n",
        "  elif op=='-':\n",
        "    result = v1 - v2\n",
        "  elif op=='/':\n",
        "    result = v1 / v2\n",
        "  elif op=='*':\n",
        "    result = v1 * v2\n",
        "  return result\n",
        "\n",
        "rst = 0\n",
        "var1, var2,opr = 0,0,\"\"\n",
        "\n",
        "opr = input(\"(+,-,/,*)입력:\")\n",
        "var1 = int(input(\"1번째 숫자 입력:\"))\n",
        "var2 = int(input(\"2번째 숫자 입력:\"))\n",
        "\n",
        "rst = calc(var1,var2,opr)\n",
        "print(\"계산결과: %d %s %d = %d\" %(var1, opr, var2, rst))"
      ],
      "metadata": {
        "colab": {
          "base_uri": "https://localhost:8080/"
        },
        "id": "RbPi0TdpOrqP",
        "outputId": "d6437b06-809e-440c-ef8a-07bcd0e78bf4"
      },
      "execution_count": 35,
      "outputs": [
        {
          "output_type": "stream",
          "name": "stdout",
          "text": [
            "(+,-,/,*)입력:+\n",
            "1번째 숫자 입력:1\n",
            "2번째 숫자 입력:988888\n",
            "계산결과: 1 + 988888 = 988889\n"
          ]
        }
      ]
    },
    {
      "cell_type": "markdown",
      "source": [
        "## Q: 0으로 나누면 메시지 출력, 계산되지 않고, 제곱(**) 연산자 기능 추가,(숫자1, 연사자, 숫자2) 순서로 입력하게 변경"
      ],
      "metadata": {
        "id": "3--mA4cLRaIH"
      }
    },
    {
      "cell_type": "code",
      "source": [],
      "metadata": {
        "id": "o8UH28YqRXG2"
      },
      "execution_count": null,
      "outputs": []
    }
  ]
}